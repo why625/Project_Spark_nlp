{
 "metadata": {
  "language_info": {
   "codemirror_mode": {
    "name": "ipython",
    "version": 3
   },
   "file_extension": ".py",
   "mimetype": "text/x-python",
   "name": "python",
   "nbconvert_exporter": "python",
   "pygments_lexer": "ipython3",
   "version": 3
  },
  "orig_nbformat": 2
 },
 "nbformat": 4,
 "nbformat_minor": 2,
 "cells": [
  {
   "cell_type": "code",
   "execution_count": null,
   "metadata": {},
   "outputs": [],
   "source": [
    "#試作推薦 =>不適合\n"
   ]
  },
  {
   "cell_type": "code",
   "execution_count": null,
   "metadata": {},
   "outputs": [],
   "source": [
    "from pyspark.sql import SparkSession\n",
    "from pyspark.sql.functions import *\n",
    "from pyspark.ml.feature import VectorAssembler\n",
    "from pyspark.ml.recommendation import ALS"
   ]
  },
  {
   "cell_type": "code",
   "execution_count": null,
   "metadata": {},
   "outputs": [],
   "source": [
    "# Prepare data\n",
    "    final_data = spark.read.csv(\"hdfs://master.tibame/user/heart/project/dataset/FashionVCdata/ALS_pret.csv\", inferSchema=True,header=True)\n",
    "\n",
    "    # Split data into train and test sets\n",
    "    train_data, test_data = final_data.randomSplit([0.8,0.2])\n",
    "    \n",
    "    # Model training\n",
    "als = ALS(maxIter=5,userCol=\"bot_id\",itemCol=\"top_id\",ratingCol=\"tag\")\n",
    "model = als.fit(train_data)\n",
    "\n",
    "    # Specify the number of movies you would like to recommand for each user\n",
    "user_movies = model.recommendForAllUsers(3)\n",
    "user_movies.show(100, truncate=False)\n",
    "\n",
    "    # The users who are most likely to like a particular movie\n",
    "movie_uers = model.recommendForAllItems(3)\n",
    "movie_uers.show(100, truncate=False)"
   ]
  },
  {
   "cell_type": "code",
   "execution_count": null,
   "metadata": {},
   "outputs": [],
   "source": [
    "evaluator = RegressionEvaluator(predictionCol=\"prediction\", labelCol=\"tag\", metricName=\"rmse\")\n",
    "print(\"rmse: {}\".format(evaluator.evaluate(predicted_test_data)))"
   ]
  }
 ]
}