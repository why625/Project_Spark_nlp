{
 "metadata": {
  "language_info": {
   "codemirror_mode": {
    "name": "ipython",
    "version": 3
   },
   "file_extension": ".py",
   "mimetype": "text/x-python",
   "name": "python",
   "nbconvert_exporter": "python",
   "pygments_lexer": "ipython3",
   "version": 3
  },
  "orig_nbformat": 2
 },
 "nbformat": 4,
 "nbformat_minor": 2,
 "cells": [
  {
   "cell_type": "code",
   "execution_count": null,
   "metadata": {},
   "outputs": [],
   "source": [
    "#統整"
   ]
  },
  {
   "cell_type": "code",
   "execution_count": null,
   "metadata": {},
   "outputs": [],
   "source": [
    "# Prepare data -Preview\n",
    "#bott\n",
    "data_bott = spark.read.csv(\"hdfs://master.tibame/user/heart/project/dataset/FashionVCdata/bottom.csv\", inferSchema=True, header=True)\n",
    "\n",
    "data_bott.show(100,truncate=False)\n",
    "data_bott.distinct()\n",
    "data_bott.distinct().count() #13662\n",
    "\n",
    "#top\n",
    "data_top = spark.read.csv(\"hdfs://master.tibame/user/heart/project/dataset/FashionVCdata/top.csv\", inferSchema=True, header=True)\n",
    "\n",
    "data_top.show(100, False)\n",
    "data_top.distinct()\n",
    "data_top.distinct().count() #14871\n",
    "\n",
    "# .....nlp_feature_engineering"
   ]
  },
  {
   "cell_type": "code",
   "execution_count": null,
   "metadata": {},
   "outputs": [],
   "source": [
    "#gnd mapping top&bottom\n",
    "data_gnd_pre = spark.read.csv(\"hdfs://master.tibame/user/heart/project/dataset/FashionVCdata/gnd_top_bottom_pairs.csv\", inferSchema=True, header=False)\n",
    "data_gnd = data_gnd_pre.na.drop()\n",
    "#data_gnd.printSchema()\n",
    "# data_gnd.show(10,truncate=False)\n",
    "# data_gnd.distinct().count() #20714\n",
    "\n",
    "'''rule= \n",
    "[ready_data_bott.iid == data_gnd._c1, \n",
    "ready_data_top == data_gnd._c0]'''\n",
    "\n",
    "data_bott=data_bott.withColumnRenamed('iid','bot_id').withColumnRenamed('title', 'bot_Desc').withColumnRenamed('category','bot_Cate')\n",
    "data_top=data_top.withColumnRenamed('iid','top_id').withColumnRenamed('title', 'top_Desc').withColumnRenamed('category','top_Cate')\n",
    "\n",
    "#答案集 data_gnd\n",
    "T_joined_bott = data_gnd.join(data_bott, data_gnd._c1 == data_bott.bot_id, 'inner').select('*')\n",
    "#joined_bott.show()\n",
    "#joined_bott.count() #20703\n",
    "T_joined_bott_top_aswr = T_joined_bott.join(data_top, T_joined_bott._c0 == data_top.top_id, 'inner' ).select('bot_id', 'bot_Desc', 'bot_Cate','top_id','top_Desc','top_Cate')#.show(10)\n",
    "\n",
    "T_joined_bott_top_aswr = T_joined_bott_top_aswr.withColumn('tag', lit(1))#.show(10) #.count() #20655\n",
    "\n",
    "#問題集 rand_gnd \n",
    "T_joined_bott2 = rand_gnd.join(data_bott, data_gnd._c1 == data_bott.bot_id, 'inner').select('*')\n",
    "#joined_bott.show()\n",
    "#joined_bott.count() #20703\n",
    "T_joined_bott_top_ques = T_joined_bott2.join(data_top, T_joined_bott._c0 == data_top.top_id, 'inner' ).select('bot_id', 'bot_Desc', 'bot_Cate','top_id','top_Desc','top_Cate')#.show(10)\n",
    "\n",
    "T_joined_bott_top_ques = T_joined_bott_top_ques.withColumn('tag', lit(0))#.show(10) #.count() #20655\n",
    "\n",
    "#答案資料合併集\n",
    "pre_dl_dataset_text = T_joined_bott_top_ques.union(T_joined_bott_top_aswr)\n",
    "pre_dl_dataset_text.show()\n",
    "pre_dl_dataset_text.count() #41310\n",
    "\n",
    "#存\n",
    "pandasDF3 = pre_dl_dataset_text.toPandas()\n",
    "pandasDF3.to_csv(\"./pre_dl_dataset_text.csv\") \n",
    "#pandasDF2.head(10) #.count()\n",
    "\n"
   ]
  }
 ]
}