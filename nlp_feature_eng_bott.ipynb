{
 "metadata": {
  "language_info": {
   "codemirror_mode": {
    "name": "ipython",
    "version": 3
   },
   "file_extension": ".py",
   "mimetype": "text/x-python",
   "name": "python",
   "nbconvert_exporter": "python",
   "pygments_lexer": "ipython3",
   "version": 3
  },
  "orig_nbformat": 2
 },
 "nbformat": 4,
 "nbformat_minor": 2,
 "cells": [
  {
   "cell_type": "code",
   "execution_count": null,
   "metadata": {},
   "outputs": [],
   "source": [
    "# 統整"
   ]
  },
  {
   "cell_type": "code",
   "execution_count": null,
   "metadata": {},
   "outputs": [],
   "source": [
    "from pyspark.sql import SparkSession\n",
    "from pyspark.ml.feature import Tokenizer, RegexTokenizer, StopWordsRemover, IDF, CountVectorizer\n",
    "from pyspark.sql.functions import rand \n",
    "from pyspark.sql.functions import lit\n",
    "import pyspark.sql.functions as sparkf\n",
    "'''\n",
    "if __name__ == \"__main__\":\n",
    "\n",
    "    spark = SparkSession \\\n",
    "        .builder\n",
    "        .getOrCreate()\n",
    "'''\n",
    "\n",
    "data_bott_pre = spark.read.csv(\"hdfs://master.tibame/user/heart/project/dataset/FashionVCdata/bottom.csv\", inferSchema=True, header=True) #13662\n",
    "data_bott = data_bott_pre.na.drop()\n",
    "#data_bott.show(truncate=False)\n",
    "res11 = data_bott.withColumn('id', sparkf.monotonically_increasing_id())\n",
    "\n",
    "words_added = RegexTokenizer(inputCol=\"title\", outputCol=\"Brand&Desc\", pattern=r\"\\W+\").transform(data_bott)\n",
    "Brand = words_added.select(\"Brand&Desc\") \n",
    "tf_added = CountVectorizer(inputCol=\"Brand&Desc\", outputCol=\"tf_b\").fit(Brand).transform(Brand)\n",
    "tf_idf_added = IDF(inputCol=\"tf_b\", outputCol=\"tf_idf_b\").fit(tf_added).transform(tf_added)\n",
    "#tf_idf_added.show(truncate=False)\n",
    "res22 = tf_idf_added.withColumn('id', sparkf.monotonically_increasing_id())\n",
    "\n",
    "words_added2 = RegexTokenizer(inputCol=\"category\", outputCol=\"sub_cates\", pattern=r\"\\W+\").transform(data_bott) \n",
    "sub_cate = words_added2.select(\"sub_cates\")\n",
    "stopwordList = [\"null\", \"Null\", '', ' '] \n",
    "stopwordList.extend(StopWordsRemover().getStopWords())\n",
    "stopwordList = list(set(stopwordList))\n",
    "words_stop_words_removed = StopWordsRemover(inputCol=\"sub_cates\", outputCol=\"sub_cates_removed\", stopWords=stopwordList).transform(sub_cate)\n",
    "\n",
    "sub_cates_rm = words_stop_words_removed.select(\"sub_cates_removed\")\n",
    "tf_added2= CountVectorizer(inputCol=\"sub_cates_removed\", outputCol=\"tf_c\").fit(sub_cates_rm).transform(sub_cates_rm)\n",
    "tf_idf_added2 = IDF(inputCol=\"tf_c\", outputCol=\"tf_idf_c\").fit(tf_added2).transform(tf_added2)\n",
    "#tf_idf_added2.show(truncate=False)\n",
    "res33 = tf_idf_added2.withColumn('id', sparkf.monotonically_increasing_id())\n",
    "\n",
    "#join\n",
    "ready_data_bott = res11.join(res22, 'id').join(res33,'id').select('iid', 'tf_idf_b', 'tf_idf_c')\n",
    "# ready_data_bott.show(10)\n",
    "# ready_data_bott.count() #13650\n"
   ]
  }
 ]
}