{
 "metadata": {
  "language_info": {
   "codemirror_mode": {
    "name": "ipython",
    "version": 3
   },
   "file_extension": ".py",
   "mimetype": "text/x-python",
   "name": "python",
   "nbconvert_exporter": "python",
   "pygments_lexer": "ipython3",
   "version": "3.8.5-final"
  },
  "orig_nbformat": 2,
  "kernelspec": {
   "name": "python3",
   "display_name": "Python 3"
  }
 },
 "nbformat": 4,
 "nbformat_minor": 2,
 "cells": [
  {
   "cell_type": "code",
   "execution_count": 1,
   "metadata": {},
   "outputs": [],
   "source": [
    "#統整"
   ]
  },
  {
   "cell_type": "code",
   "execution_count": null,
   "metadata": {},
   "outputs": [],
   "source": [
    "from pyspark.sql import SparkSession\n",
    "from pyspark.ml.feature import Tokenizer, RegexTokenizer, StopWordsRemover, IDF, CountVectorizer\n",
    "from pyspark.sql.functions import rand \n",
    "from pyspark.sql.functions import lit\n",
    "import pyspark.sql.functions as sparkf\n",
    "\n",
    "if __name__ == \"__main__\":\n",
    "\n",
    "    spark = SparkSession \\\n",
    "        .builder \\\n",
    "        .getOrCreate()\n",
    "\n",
    "\n",
    "data_top_pre = spark.read.csv(\"hdfs://master.tibame/user/heart/project/dataset/FashionVCdata/top.csv\", inferSchema=True, header=True)\n",
    "data_top = data_top_pre.na.drop()\n",
    "res1 = data_top.withColumn('id', sparkf.monotonically_increasing_id())\n",
    "#res1.show()\n",
    "#res1.count()\n",
    "\n",
    "words_added = RegexTokenizer(inputCol=\"title\", outputCol=\"Brand&Desc\", pattern=r\"\\W+\").transform(data_top)\n",
    "Brand = words_added.select(\"Brand&Desc\")\n",
    "tf_added = CountVectorizer(inputCol=\"Brand&Desc\", outputCol=\"tf_b\").fit(Brand).transform(Brand)\n",
    "tf_idf_added = IDF(inputCol=\"tf_b\", outputCol=\"tf_idf_b_top\").fit(tf_added).transform(tf_added)\n",
    "#tf_idf_added.show(truncate=False)\n",
    "res2 = tf_idf_added.withColumn('id', sparkf.monotonically_increasing_id())\n",
    "#res2.show()\n",
    "\n",
    "\n",
    "words_added2 = RegexTokenizer(inputCol=\"category\", outputCol=\"sub_cates\", pattern=r\"\\W+\").transform(data_top)\n",
    "sub_cate = words_added2.select(\"sub_cates\") \n",
    "stopwordList = [\"null\", \"Null\", '', ' '] \n",
    "stopwordList.extend(StopWordsRemover().getStopWords())\n",
    "stopwordList = list(set(stopwordList))\n",
    "words_stop_words_removed = StopWordsRemover(inputCol=\"sub_cates\", outputCol=\"sub_cates_removed\", stopWords=stopwordList).transform(sub_cate)\n",
    "sub_cates_rm = words_stop_words_removed.select(\"sub_cates_removed\")\n",
    "tf_added2= CountVectorizer(inputCol=\"sub_cates_removed\", outputCol=\"tf_c\").fit(sub_cates_rm).transform(sub_cates_rm)\n",
    "tf_idf_added2 = IDF(inputCol=\"tf_c\", outputCol=\"tf_idf_c_top\").fit(tf_added2).transform(tf_added2)\n",
    "#tf_idf_added2.show(truncate=False)\n",
    "res3 = tf_idf_added2.withColumn('id', sparkf.monotonically_increasing_id())\n",
    "#res3.show()\n",
    "\n",
    "#join\n",
    "ready_data_top = res1.join(res2, 'id').join(res3,'id').select('iid', 'tf_idf_b_top', 'tf_idf_c_top')\n",
    "# ready_data_top.show(10)\n",
    "# ready_data_top.printSchema()\n"
   ]
  }
 ]
}